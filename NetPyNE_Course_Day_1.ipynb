{
  "nbformat": 4,
  "nbformat_minor": 0,
  "metadata": {
    "colab": {
      "name": "NetPyNE Course Day 1.ipynb",
      "provenance": [],
      "authorship_tag": "ABX9TyOjpm8kagzGcuebQL74dRN5",
      "include_colab_link": true
    },
    "kernelspec": {
      "name": "python3",
      "display_name": "Python 3"
    },
    "language_info": {
      "name": "python"
    }
  },
  "cells": [
    {
      "cell_type": "markdown",
      "metadata": {
        "id": "view-in-github",
        "colab_type": "text"
      },
      "source": [
        "<a href=\"https://colab.research.google.com/github/lauramedlock/NetPyNE_Course/blob/main/NetPyNE_Course_Day_1.ipynb\" target=\"_parent\"><img src=\"https://colab.research.google.com/assets/colab-badge.svg\" alt=\"Open In Colab\"/></a>"
      ]
    },
    {
      "cell_type": "markdown",
      "metadata": {
        "id": "s0RMdGKQt54f"
      },
      "source": [
        "# NetPyNE Course Intro to Neuron"
      ]
    },
    {
      "cell_type": "markdown",
      "metadata": {
        "id": "cIgdNZzhuLsD"
      },
      "source": [
        "## Installing Neuron"
      ]
    },
    {
      "cell_type": "code",
      "metadata": {
        "colab": {
          "base_uri": "https://localhost:8080/"
        },
        "id": "vuoC2SNZtmQ_",
        "outputId": "80137b71-8c5b-4aae-f5da-4eeafb9d446e"
      },
      "source": [
        "!pip install neuron"
      ],
      "execution_count": 1,
      "outputs": [
        {
          "output_type": "stream",
          "text": [
            "Collecting neuron\n",
            "\u001b[?25l  Downloading https://files.pythonhosted.org/packages/14/f4/ea50608c7633c286859d6cce0aad621da22a8da7ff9787efc8bb71fe0597/NEURON-8.0.0-cp37-cp37m-manylinux1_x86_64.whl (12.6MB)\n",
            "\u001b[K     |████████████████████████████████| 12.6MB 8.2MB/s \n",
            "\u001b[?25hRequirement already satisfied: numpy>=1.9.3 in /usr/local/lib/python3.7/dist-packages (from neuron) (1.19.5)\n",
            "Installing collected packages: neuron\n",
            "Successfully installed neuron-8.0.0\n"
          ],
          "name": "stdout"
        }
      ]
    },
    {
      "cell_type": "code",
      "metadata": {
        "colab": {
          "base_uri": "https://localhost:8080/"
        },
        "id": "Mnl8wjqht0tv",
        "outputId": "ebfc190c-b843-4a43-8e7d-7ae717e022ec"
      },
      "source": [
        "!which nrnivmodl\n"
      ],
      "execution_count": 3,
      "outputs": [
        {
          "output_type": "stream",
          "text": [
            "/usr/local/bin/nrnivmodl\n"
          ],
          "name": "stdout"
        }
      ]
    },
    {
      "cell_type": "markdown",
      "metadata": {
        "id": "EVtzafY_uOrF"
      },
      "source": [
        "## Installing NetPyNE"
      ]
    },
    {
      "cell_type": "code",
      "metadata": {
        "colab": {
          "base_uri": "https://localhost:8080/"
        },
        "id": "14Jv6Cu6uBhR",
        "outputId": "482af0ed-e392-400c-b047-6156eb7cd466"
      },
      "source": [
        "!pip install netpyne"
      ],
      "execution_count": 4,
      "outputs": [
        {
          "output_type": "stream",
          "text": [
            "Collecting netpyne\n",
            "\u001b[?25l  Downloading https://files.pythonhosted.org/packages/9e/24/0f9d685a3fbcbca0d86d9ca6521465c43725d9e23760c91524fe77191f12/netpyne-1.0.0.2-py2.py3-none-any.whl (312kB)\n",
            "\r\u001b[K     |█                               | 10kB 16.9MB/s eta 0:00:01\r\u001b[K     |██                              | 20kB 24.5MB/s eta 0:00:01\r\u001b[K     |███▏                            | 30kB 19.4MB/s eta 0:00:01\r\u001b[K     |████▏                           | 40kB 19.5MB/s eta 0:00:01\r\u001b[K     |█████▎                          | 51kB 15.8MB/s eta 0:00:01\r\u001b[K     |██████▎                         | 61kB 13.4MB/s eta 0:00:01\r\u001b[K     |███████▍                        | 71kB 14.4MB/s eta 0:00:01\r\u001b[K     |████████▍                       | 81kB 13.4MB/s eta 0:00:01\r\u001b[K     |█████████▍                      | 92kB 12.0MB/s eta 0:00:01\r\u001b[K     |██████████▌                     | 102kB 12.6MB/s eta 0:00:01\r\u001b[K     |███████████▌                    | 112kB 12.6MB/s eta 0:00:01\r\u001b[K     |████████████▋                   | 122kB 12.6MB/s eta 0:00:01\r\u001b[K     |█████████████▋                  | 133kB 12.6MB/s eta 0:00:01\r\u001b[K     |██████████████▊                 | 143kB 12.6MB/s eta 0:00:01\r\u001b[K     |███████████████▊                | 153kB 12.6MB/s eta 0:00:01\r\u001b[K     |████████████████▉               | 163kB 12.6MB/s eta 0:00:01\r\u001b[K     |█████████████████▉              | 174kB 12.6MB/s eta 0:00:01\r\u001b[K     |██████████████████▉             | 184kB 12.6MB/s eta 0:00:01\r\u001b[K     |████████████████████            | 194kB 12.6MB/s eta 0:00:01\r\u001b[K     |█████████████████████           | 204kB 12.6MB/s eta 0:00:01\r\u001b[K     |██████████████████████          | 215kB 12.6MB/s eta 0:00:01\r\u001b[K     |███████████████████████         | 225kB 12.6MB/s eta 0:00:01\r\u001b[K     |████████████████████████▏       | 235kB 12.6MB/s eta 0:00:01\r\u001b[K     |█████████████████████████▏      | 245kB 12.6MB/s eta 0:00:01\r\u001b[K     |██████████████████████████▎     | 256kB 12.6MB/s eta 0:00:01\r\u001b[K     |███████████████████████████▎    | 266kB 12.6MB/s eta 0:00:01\r\u001b[K     |████████████████████████████▎   | 276kB 12.6MB/s eta 0:00:01\r\u001b[K     |█████████████████████████████▍  | 286kB 12.6MB/s eta 0:00:01\r\u001b[K     |██████████████████████████████▍ | 296kB 12.6MB/s eta 0:00:01\r\u001b[K     |███████████████████████████████▌| 307kB 12.6MB/s eta 0:00:01\r\u001b[K     |████████████████████████████████| 317kB 12.6MB/s \n",
            "\u001b[?25hRequirement already satisfied: matplotlib in /usr/local/lib/python3.7/dist-packages (from netpyne) (3.2.2)\n",
            "Requirement already satisfied: scipy in /usr/local/lib/python3.7/dist-packages (from netpyne) (1.4.1)\n",
            "Collecting matplotlib-scalebar\n",
            "  Downloading https://files.pythonhosted.org/packages/51/a4/cd254234c35f3591361988e89ab132ee14789f2ebe1ede621d63f5241f00/matplotlib_scalebar-0.7.2-py2.py3-none-any.whl\n",
            "Requirement already satisfied: future in /usr/local/lib/python3.7/dist-packages (from netpyne) (0.16.0)\n",
            "Requirement already satisfied: pandas in /usr/local/lib/python3.7/dist-packages (from netpyne) (1.1.5)\n",
            "Requirement already satisfied: numpy in /usr/local/lib/python3.7/dist-packages (from netpyne) (1.19.5)\n",
            "Requirement already satisfied: bokeh in /usr/local/lib/python3.7/dist-packages (from netpyne) (2.3.2)\n",
            "Requirement already satisfied: cycler>=0.10 in /usr/local/lib/python3.7/dist-packages (from matplotlib->netpyne) (0.10.0)\n",
            "Requirement already satisfied: kiwisolver>=1.0.1 in /usr/local/lib/python3.7/dist-packages (from matplotlib->netpyne) (1.3.1)\n",
            "Requirement already satisfied: python-dateutil>=2.1 in /usr/local/lib/python3.7/dist-packages (from matplotlib->netpyne) (2.8.1)\n",
            "Requirement already satisfied: pyparsing!=2.0.4,!=2.1.2,!=2.1.6,>=2.0.1 in /usr/local/lib/python3.7/dist-packages (from matplotlib->netpyne) (2.4.7)\n",
            "Requirement already satisfied: pytz>=2017.2 in /usr/local/lib/python3.7/dist-packages (from pandas->netpyne) (2018.9)\n",
            "Requirement already satisfied: PyYAML>=3.10 in /usr/local/lib/python3.7/dist-packages (from bokeh->netpyne) (3.13)\n",
            "Requirement already satisfied: Jinja2>=2.9 in /usr/local/lib/python3.7/dist-packages (from bokeh->netpyne) (2.11.3)\n",
            "Requirement already satisfied: pillow>=7.1.0 in /usr/local/lib/python3.7/dist-packages (from bokeh->netpyne) (7.1.2)\n",
            "Requirement already satisfied: tornado>=5.1 in /usr/local/lib/python3.7/dist-packages (from bokeh->netpyne) (5.1.1)\n",
            "Requirement already satisfied: typing-extensions>=3.7.4 in /usr/local/lib/python3.7/dist-packages (from bokeh->netpyne) (3.7.4.3)\n",
            "Requirement already satisfied: packaging>=16.8 in /usr/local/lib/python3.7/dist-packages (from bokeh->netpyne) (20.9)\n",
            "Requirement already satisfied: six in /usr/local/lib/python3.7/dist-packages (from cycler>=0.10->matplotlib->netpyne) (1.15.0)\n",
            "Requirement already satisfied: MarkupSafe>=0.23 in /usr/local/lib/python3.7/dist-packages (from Jinja2>=2.9->bokeh->netpyne) (2.0.0)\n",
            "Installing collected packages: matplotlib-scalebar, netpyne\n",
            "Successfully installed matplotlib-scalebar-0.7.2 netpyne-1.0.0.2\n"
          ],
          "name": "stdout"
        }
      ]
    },
    {
      "cell_type": "code",
      "metadata": {
        "id": "FbS1S3siuIoa"
      },
      "source": [
        "import neuron"
      ],
      "execution_count": 5,
      "outputs": []
    },
    {
      "cell_type": "code",
      "metadata": {
        "id": "TEi8OLIbuVCN"
      },
      "source": [
        "import netpyne"
      ],
      "execution_count": 6,
      "outputs": []
    },
    {
      "cell_type": "code",
      "metadata": {
        "id": "V796ZwlIuWGc"
      },
      "source": [
        ""
      ],
      "execution_count": null,
      "outputs": []
    }
  ]
}