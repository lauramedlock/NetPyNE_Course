{
  "nbformat": 4,
  "nbformat_minor": 0,
  "metadata": {
    "colab": {
      "name": "Questions.ipynb",
      "provenance": [],
      "authorship_tag": "ABX9TyNCvaoYOJrL4l1X0FPtOAA7",
      "include_colab_link": true
    },
    "kernelspec": {
      "name": "python3",
      "display_name": "Python 3"
    },
    "language_info": {
      "name": "python"
    }
  },
  "cells": [
    {
      "cell_type": "markdown",
      "metadata": {
        "id": "view-in-github",
        "colab_type": "text"
      },
      "source": [
        "<a href=\"https://colab.research.google.com/github/lauramedlock/NetPyNE_Course/blob/main/Questions.ipynb\" target=\"_parent\"><img src=\"https://colab.research.google.com/assets/colab-badge.svg\" alt=\"Open In Colab\"/></a>"
      ]
    },
    {
      "cell_type": "markdown",
      "metadata": {
        "id": "K_uX1yqwAIr1"
      },
      "source": [
        "# Questions for NEURON"
      ]
    },
    {
      "cell_type": "code",
      "metadata": {
        "id": "CfpgOs36AK6g"
      },
      "source": [
        ""
      ],
      "execution_count": null,
      "outputs": []
    },
    {
      "cell_type": "markdown",
      "metadata": {
        "id": "GcWjDrCJALdp"
      },
      "source": [
        "# Questions for NetPyNE"
      ]
    },
    {
      "cell_type": "markdown",
      "metadata": {
        "id": "VYwvnV37AOo0"
      },
      "source": [
        "1. Within a population of cells, is there a way to have multiple types of cells?\n",
        "(Ex. In PopX they are all tonic firing cells, but I want 50% tonic firing and 50% burst firing.)\n",
        "\n",
        "\n",
        "> Ideally I would be able to choose the cell type from a distribution. \n",
        "\n"
      ]
    },
    {
      "cell_type": "code",
      "metadata": {
        "id": "DGSH7LjsANkC"
      },
      "source": [
        ""
      ],
      "execution_count": null,
      "outputs": []
    }
  ]
}